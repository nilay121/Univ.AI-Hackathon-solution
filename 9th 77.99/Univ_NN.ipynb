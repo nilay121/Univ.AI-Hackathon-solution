{
  "nbformat": 4,
  "nbformat_minor": 0,
  "metadata": {
    "colab": {
      "name": "Univ_NN.ipynb",
      "provenance": []
    },
    "kernelspec": {
      "name": "python3",
      "display_name": "Python 3"
    },
    "language_info": {
      "name": "python"
    },
    "accelerator": "GPU"
  },
  "cells": [
    {
      "cell_type": "code",
      "metadata": {
        "id": "9CE22Jqw6cva"
      },
      "source": [
        "import pandas as pd\n",
        "import numpy as np\n",
        "import matplotlib.pyplot as plt\n",
        "import seaborn as sns\n",
        "from sklearn.preprocessing import StandardScaler\n",
        "from sklearn.model_selection import train_test_split\n",
        "from sklearn.metrics import confusion_matrix\n",
        "from sklearn.metrics import accuracy_score\n",
        "from sklearn.metrics import f1_score\n",
        "from collections import Counter\n",
        "from sklearn.metrics import roc_curve\n",
        "from sklearn.decomposition import PCA\n",
        "from sklearn.model_selection import GridSearchCV\n",
        "from google.colab import files\n",
        "from sklearn.preprocessing import OneHotEncoder\n",
        "from sklearn.tree import DecisionTreeClassifier\n",
        "from sklearn.compose import ColumnTransformer\n",
        "from sklearn.metrics import roc_auc_score\n",
        "from sklearn.ensemble import RandomForestClassifier\n",
        "from joblib import dump, load\n",
        "import xgboost as xgb\n",
        "from sklearn.model_selection import GridSearchCV\n",
        "from sklearn.metrics import roc_auc_score\n",
        "from sklearn.linear_model import LogisticRegression"
      ],
      "execution_count": 395,
      "outputs": []
    },
    {
      "cell_type": "code",
      "metadata": {
        "id": "sRS-eXOgp4pY"
      },
      "source": [
        ""
      ],
      "execution_count": 395,
      "outputs": []
    },
    {
      "cell_type": "code",
      "metadata": {
        "colab": {
          "base_uri": "https://localhost:8080/"
        },
        "id": "79DiHAcLp5bS",
        "outputId": "e6764e49-63e0-471d-aa63-2b167268d0b1"
      },
      "source": [
        "from google.colab import drive\n",
        "drive.mount('/content/drive')"
      ],
      "execution_count": 396,
      "outputs": [
        {
          "output_type": "stream",
          "text": [
            "Drive already mounted at /content/drive; to attempt to forcibly remount, call drive.mount(\"/content/drive\", force_remount=True).\n"
          ],
          "name": "stdout"
        }
      ]
    },
    {
      "cell_type": "code",
      "metadata": {
        "colab": {
          "base_uri": "https://localhost:8080/"
        },
        "id": "rNtgXQEF-n4e",
        "outputId": "e902876d-ea10-44de-aef9-ed5c6688a692"
      },
      "source": [
        "train_data=pd.read_csv('/content/drive/MyDrive/Colab Notebooks/Univ AI hackathon/Training Data.csv')\n",
        "test_data=pd.read_csv('/content/drive/MyDrive/Colab Notebooks/Univ AI hackathon/Test Data.csv')\n",
        "test_data_bck=test_data\n",
        "print(train_data.head(2))\n",
        "print(test_data.head(2))"
      ],
      "execution_count": 397,
      "outputs": [
        {
          "output_type": "stream",
          "text": [
            "   Id   income  age  ...  current_job_years current_house_years risk_flag\n",
            "0   1  1303835   23  ...                  3                  13         0\n",
            "1   2  7574516   40  ...                  9                  13         0\n",
            "\n",
            "[2 rows x 13 columns]\n",
            "   id   income  age  ...        state current_job_years current_house_years\n",
            "0   1  7393090   59  ...  West Bengal                 4                  13\n",
            "1   2  1215004   25  ...  Maharashtra                 5                  10\n",
            "\n",
            "[2 rows x 12 columns]\n"
          ],
          "name": "stdout"
        }
      ]
    },
    {
      "cell_type": "code",
      "metadata": {
        "id": "HuLIr4X6-s9p"
      },
      "source": [
        "X=train_data.drop(columns=['Id','risk_flag'])\n",
        "y=train_data['risk_flag']\n",
        "test_data=test_data.drop(columns='id')\n",
        "X_train,X_test,y_train,y_test=train_test_split(X,y,test_size=0.20,random_state=32)"
      ],
      "execution_count": 398,
      "outputs": []
    },
    {
      "cell_type": "code",
      "metadata": {
        "id": "N4-3rUTo_v34"
      },
      "source": [
        "X_train,X_val,y_train,y_val=train_test_split(X_train,y_train,test_size=0.20,random_state=22)"
      ],
      "execution_count": 399,
      "outputs": []
    },
    {
      "cell_type": "code",
      "metadata": {
        "id": "xJC0IYEwAs34"
      },
      "source": [
        "numeric_features = ['income','experience','age','current_job_years','current_house_years']\n",
        "numeric_transformer = StandardScaler()\n",
        "\n",
        "categorical_features = ['married','house_ownership','car_ownership','profession','city','state']\n",
        "categorical_transformer = OneHotEncoder()\n",
        "\n",
        "ct = ColumnTransformer(\n",
        "    transformers=[\n",
        "        ('num', numeric_transformer, numeric_features),\n",
        "        ('cat', categorical_transformer, categorical_features)])"
      ],
      "execution_count": 400,
      "outputs": []
    },
    {
      "cell_type": "code",
      "metadata": {
        "id": "fSNYXUQeAs9L"
      },
      "source": [
        "encoded_X_train=ct.fit_transform(X_train).toarray()\n",
        "encoded_X_val=ct.fit_transform(X_val).toarray()\n",
        "encoded_X_test=ct.fit_transform(test_data).toarray()\n",
        "X_test=ct.fit_transform(X_test).toarray()"
      ],
      "execution_count": 401,
      "outputs": []
    },
    {
      "cell_type": "code",
      "metadata": {
        "colab": {
          "base_uri": "https://localhost:8080/"
        },
        "id": "dmajjahdDPSe",
        "outputId": "8fb37b52-c929-437a-83ca-86dae03a5e6d"
      },
      "source": [
        "type(encoded_X_train)"
      ],
      "execution_count": 402,
      "outputs": [
        {
          "output_type": "execute_result",
          "data": {
            "text/plain": [
              "numpy.ndarray"
            ]
          },
          "metadata": {
            "tags": []
          },
          "execution_count": 402
        }
      ]
    },
    {
      "cell_type": "markdown",
      "metadata": {
        "id": "xNYHh0TmAcVN"
      },
      "source": [
        "**NN**"
      ]
    },
    {
      "cell_type": "code",
      "metadata": {
        "id": "IVOkxEtEAeGu"
      },
      "source": [
        "import tensorflow as tf\n",
        "from tensorflow import keras"
      ],
      "execution_count": 403,
      "outputs": []
    },
    {
      "cell_type": "code",
      "metadata": {
        "id": "fu0QQA4dCWVM"
      },
      "source": [
        "# model=keras.models.Sequential()\n",
        "# model.add(keras.layers.Dense(500,activation=\"relu\",input_dim=409))\n",
        "# model.add(keras.layers.Dense(300,activation='relu'))\n",
        "# model.add(keras.layers.Dense(400,activation='relu'))\n",
        "# model.add(keras.layers.Dense(1,activation='sigmoid'))"
      ],
      "execution_count": 404,
      "outputs": []
    },
    {
      "cell_type": "code",
      "metadata": {
        "id": "GVvlLINOES1T"
      },
      "source": [
        "# model.summary()"
      ],
      "execution_count": 405,
      "outputs": []
    },
    {
      "cell_type": "code",
      "metadata": {
        "id": "8w9WYV36EJrq"
      },
      "source": [
        "# model.compile(optimizer='adamax',loss='binary_crossentropy',metrics=[tf.keras.metrics.AUC()])"
      ],
      "execution_count": 406,
      "outputs": []
    },
    {
      "cell_type": "code",
      "metadata": {
        "id": "wZ-OyCcaPmJv"
      },
      "source": [
        "# checkpoint_pt = keras.callbacks.ModelCheckpoint(\"NN_univ.h5\",save_best_only=True)"
      ],
      "execution_count": 407,
      "outputs": []
    },
    {
      "cell_type": "code",
      "metadata": {
        "id": "CVK4pw-3Fl8b"
      },
      "source": [
        "# model.fit(encoded_X_train,y_train,batch_size=15,epochs=20,validation_data=(encoded_X_val,y_val),workers=-1,callbacks=[checkpoint_pt])"
      ],
      "execution_count": 408,
      "outputs": []
    },
    {
      "cell_type": "code",
      "metadata": {
        "id": "zYXkLoAUQbqD"
      },
      "source": [
        "model = keras.models.load_model(\"/content/drive/MyDrive/Colab Notebooks/NN_univ.h5\")"
      ],
      "execution_count": 409,
      "outputs": []
    },
    {
      "cell_type": "code",
      "metadata": {
        "id": "5WnHVA9lGrdY"
      },
      "source": [
        "predictions=model.predict(encoded_X_val)\n",
        "predictions=predictions>0.5\n",
        "prediction_nn=np.where(predictions==False,0,1)\n",
        "nn_pred_df=pd.DataFrame(prediction_nn,columns=['prediction'])"
      ],
      "execution_count": 410,
      "outputs": []
    },
    {
      "cell_type": "code",
      "metadata": {
        "id": "0OAESqT1Iwek"
      },
      "source": [
        "def scoring(y_test,predictions):\n",
        "  print(f'roc auc score \\n{roc_auc_score(y_test,predictions)}')\n",
        "  print(f'confusion_matrix \\n{confusion_matrix(y_test,predictions)}')\n",
        "  print(f'value counts \\n{pd.DataFrame(predictions).value_counts()}')\n",
        "  fpr, tpr, thresholds=roc_curve(y_test,predictions)\n",
        "  print(f\"fpr = {fpr} , tpr = {tpr}\")\n",
        "  plt.figure(figsize=(7,7))\n",
        "  plt.plot([0, 1], [0, 1], 'k--',label='Thresold')\n",
        "  plt.plot(fpr, tpr, linewidth=2,color='green',label='RF')\n",
        "  plt.ylabel('True positive rate(Recall)')\n",
        "  plt.xlabel('False positive rate')\n",
        "  plt.title('ROC')\n",
        "  plt.legend()\n",
        "  plt.show()"
      ],
      "execution_count": 411,
      "outputs": []
    },
    {
      "cell_type": "code",
      "metadata": {
        "colab": {
          "base_uri": "https://localhost:8080/",
          "height": 642
        },
        "id": "NSEbSIVBIwrX",
        "outputId": "f009d102-29da-4721-df35-0d7efdfcc73e"
      },
      "source": [
        "# Scoring data for neural network\n",
        "scoring(y_val,prediction_nn)"
      ],
      "execution_count": 412,
      "outputs": [
        {
          "output_type": "stream",
          "text": [
            "roc auc score \n",
            "0.7488112117780295\n",
            "confusion_matrix \n",
            "[[33357  1963]\n",
            " [ 2234  2766]]\n",
            "value counts \n",
            "0    35591\n",
            "1     4729\n",
            "dtype: int64\n",
            "fpr = [0.         0.05557758 1.        ] , tpr = [0.     0.5532 1.    ]\n"
          ],
          "name": "stdout"
        },
        {
          "output_type": "display_data",
          "data": {
            "image/png": "[encoded data removed]",
            "text/plain": [
              "<Figure size 504x504 with 1 Axes>"
            ]
          },
          "metadata": {
            "tags": [],
            "needs_background": "light"
          }
        }
      ]
    },
    {
      "cell_type": "markdown",
      "metadata": {
        "id": "DJgm7r8BNhJ3"
      },
      "source": [
        "**Random forest**"
      ]
    },
    {
      "cell_type": "code",
      "metadata": {
        "id": "dbLyN6_fIwxw"
      },
      "source": [
        "# rf_model=RandomForestClassifier()\n",
        "# rf_model.fit(encoded_X_train,y_train)\n",
        "rf_model=load('/content/drive/MyDrive/Colab Notebooks/rf.joblib')"
      ],
      "execution_count": 413,
      "outputs": []
    },
    {
      "cell_type": "code",
      "metadata": {
        "colab": {
          "base_uri": "https://localhost:8080/",
          "height": 642
        },
        "id": "kzJ795wFIw0i",
        "outputId": "82a3c0d3-fc0c-49a4-8c8e-b7df292152c8"
      },
      "source": [
        "prediction_rf=rf_model.predict(encoded_X_val)\n",
        "scoring(y_val,prediction_rf)"
      ],
      "execution_count": 414,
      "outputs": [
        {
          "output_type": "stream",
          "text": [
            "roc auc score \n",
            "0.7420520951302378\n",
            "confusion_matrix \n",
            "[[33593  1727]\n",
            " [ 2335  2665]]\n",
            "value counts \n",
            "0    35928\n",
            "1     4392\n",
            "dtype: int64\n",
            "fpr = [0.         0.04889581 1.        ] , tpr = [0.    0.533 1.   ]\n"
          ],
          "name": "stdout"
        },
        {
          "output_type": "display_data",
          "data": {
            "image/png": "[encoded data removed]",
            "text/plain": [
              "<Figure size 504x504 with 1 Axes>"
            ]
          },
          "metadata": {
            "tags": [],
            "needs_background": "light"
          }
        }
      ]
    },
    {
      "cell_type": "markdown",
      "metadata": {
        "id": "oE_AiRHLXby5"
      },
      "source": [
        "**Decsion tree**"
      ]
    },
    {
      "cell_type": "code",
      "metadata": {
        "id": "uVprAi0WIw3J"
      },
      "source": [
        "# dt_model=DecisionTreeClassifier()\n",
        "# dt_model.fit(encoded_X_train,y_train)\n",
        "dt_model=load('/content/drive/MyDrive/Colab Notebooks/dt.joblib')"
      ],
      "execution_count": 415,
      "outputs": []
    },
    {
      "cell_type": "code",
      "metadata": {
        "id": "m_j0_cpRIw5t"
      },
      "source": [
        "# prediction_dt=dt_model.predict(encoded_X_val)\n",
        "# scoring(y_val,prediction_dt)"
      ],
      "execution_count": 416,
      "outputs": []
    },
    {
      "cell_type": "markdown",
      "metadata": {
        "id": "pSBsVoJquqvQ"
      },
      "source": [
        "**Xgboost**"
      ]
    },
    {
      "cell_type": "code",
      "metadata": {
        "id": "LR79EpIzupha",
        "colab": {
          "base_uri": "https://localhost:8080/",
          "height": 642
        },
        "outputId": "5692ad79-5890-475e-9625-611eff97b644"
      },
      "source": [
        "clf_xg=xgb.XGBClassifier(objective='binary:logistic',seed=60,max_depth=9,learning_rate=0.1,gamma=0.25,reg_lambda=10,scale_pos_weight=7)\n",
        "# clf_xg.fit(encoded_X_train,y_train,verbose=True,early_stopping_rounds=10,eval_metric='auc',eval_set=[(encoded_X_val,y_val)])\n",
        "clf_xg=load('/content/drive/MyDrive/Colab Notebooks/xg.joblib')\n",
        "predictions_xg=clf_xg.predict(encoded_X_val)\n",
        "scoring(y_val,predictions_xg)"
      ],
      "execution_count": 417,
      "outputs": [
        {
          "output_type": "stream",
          "text": [
            "roc auc score \n",
            "0.7615295583238958\n",
            "confusion_matrix \n",
            "[[28138  7182]\n",
            " [ 1368  3632]]\n",
            "value counts \n",
            "0    29506\n",
            "1    10814\n",
            "dtype: int64\n",
            "fpr = [0.         0.20334088 1.        ] , tpr = [0.     0.7264 1.    ]\n"
          ],
          "name": "stdout"
        },
        {
          "output_type": "display_data",
          "data": {
            "image/png": "[encoded data removed]",
            "text/plain": [
              "<Figure size 504x504 with 1 Axes>"
            ]
          },
          "metadata": {
            "tags": [],
            "needs_background": "light"
          }
        }
      ]
    },
    {
      "cell_type": "markdown",
      "metadata": {
        "id": "LarRRm5gVcOW"
      },
      "source": [
        "**Dumping model**"
      ]
    },
    {
      "cell_type": "code",
      "metadata": {
        "id": "Fy-izTMAVgE8"
      },
      "source": [
        "# dump(rf_model,'rf.joblib')\n",
        "# dump(dt_model,'dt.joblib')\n",
        "# dump(clf_xg,'xg.joblib')"
      ],
      "execution_count": 418,
      "outputs": []
    },
    {
      "cell_type": "code",
      "metadata": {
        "id": "ozf07EbSVgVU"
      },
      "source": [
        "# files.download(\"rf.joblib\")\n",
        "# files.download(\"dt.joblib\")\n",
        "# files.download('xg.joblib')\n"
      ],
      "execution_count": 419,
      "outputs": []
    },
    {
      "cell_type": "markdown",
      "metadata": {
        "id": "-OcQq0hBTqXG"
      },
      "source": [
        "**Blending models**"
      ]
    },
    {
      "cell_type": "code",
      "metadata": {
        "colab": {
          "base_uri": "https://localhost:8080/"
        },
        "id": "OuxAEcMhciYZ",
        "outputId": "3ff01b39-161f-4292-ef35-f8428136b0d1"
      },
      "source": [
        "predictions_xg.shape"
      ],
      "execution_count": 420,
      "outputs": [
        {
          "output_type": "execute_result",
          "data": {
            "text/plain": [
              "(40320,)"
            ]
          },
          "metadata": {
            "tags": []
          },
          "execution_count": 420
        }
      ]
    },
    {
      "cell_type": "code",
      "metadata": {
        "colab": {
          "base_uri": "https://localhost:8080/",
          "height": 424
        },
        "id": "_oLcC64PTpWE",
        "outputId": "1835acc4-11f1-40f9-870a-f13364351b83"
      },
      "source": [
        "data={\n",
        "    'pred_nn':nn_pred_df['prediction'],\n",
        "    'pred_rf':prediction_rf,\n",
        "    'pred_xg':predictions_xg\n",
        "}\n",
        "df_blend=pd.DataFrame(data=data)\n",
        "df_blend['target']=list(y_val)\n",
        "df_blend"
      ],
      "execution_count": 421,
      "outputs": [
        {
          "output_type": "execute_result",
          "data": {
            "text/html": [
              "<div>\n",
              "<style scoped>\n",
              "    .dataframe tbody tr th:only-of-type {\n",
              "        vertical-align: middle;\n",
              "    }\n",
              "\n",
              "    .dataframe tbody tr th {\n",
              "        vertical-align: top;\n",
              "    }\n",
              "\n",
              "    .dataframe thead th {\n",
              "        text-align: right;\n",
              "    }\n",
              "</style>\n",
              "<table border=\"1\" class=\"dataframe\">\n",
              "  <thead>\n",
              "    <tr style=\"text-align: right;\">\n",
              "      <th></th>\n",
              "      <th>pred_nn</th>\n",
              "      <th>pred_rf</th>\n",
              "      <th>pred_xg</th>\n",
              "      <th>target</th>\n",
              "    </tr>\n",
              "  </thead>\n",
              "  <tbody>\n",
              "    <tr>\n",
              "      <th>0</th>\n",
              "      <td>0</td>\n",
              "      <td>0</td>\n",
              "      <td>1</td>\n",
              "      <td>0</td>\n",
              "    </tr>\n",
              "    <tr>\n",
              "      <th>1</th>\n",
              "      <td>0</td>\n",
              "      <td>0</td>\n",
              "      <td>0</td>\n",
              "      <td>0</td>\n",
              "    </tr>\n",
              "    <tr>\n",
              "      <th>2</th>\n",
              "      <td>0</td>\n",
              "      <td>0</td>\n",
              "      <td>1</td>\n",
              "      <td>0</td>\n",
              "    </tr>\n",
              "    <tr>\n",
              "      <th>3</th>\n",
              "      <td>0</td>\n",
              "      <td>0</td>\n",
              "      <td>0</td>\n",
              "      <td>0</td>\n",
              "    </tr>\n",
              "    <tr>\n",
              "      <th>4</th>\n",
              "      <td>1</td>\n",
              "      <td>1</td>\n",
              "      <td>1</td>\n",
              "      <td>1</td>\n",
              "    </tr>\n",
              "    <tr>\n",
              "      <th>...</th>\n",
              "      <td>...</td>\n",
              "      <td>...</td>\n",
              "      <td>...</td>\n",
              "      <td>...</td>\n",
              "    </tr>\n",
              "    <tr>\n",
              "      <th>40315</th>\n",
              "      <td>0</td>\n",
              "      <td>0</td>\n",
              "      <td>0</td>\n",
              "      <td>0</td>\n",
              "    </tr>\n",
              "    <tr>\n",
              "      <th>40316</th>\n",
              "      <td>0</td>\n",
              "      <td>0</td>\n",
              "      <td>0</td>\n",
              "      <td>0</td>\n",
              "    </tr>\n",
              "    <tr>\n",
              "      <th>40317</th>\n",
              "      <td>0</td>\n",
              "      <td>0</td>\n",
              "      <td>0</td>\n",
              "      <td>0</td>\n",
              "    </tr>\n",
              "    <tr>\n",
              "      <th>40318</th>\n",
              "      <td>1</td>\n",
              "      <td>1</td>\n",
              "      <td>1</td>\n",
              "      <td>1</td>\n",
              "    </tr>\n",
              "    <tr>\n",
              "      <th>40319</th>\n",
              "      <td>0</td>\n",
              "      <td>0</td>\n",
              "      <td>0</td>\n",
              "      <td>0</td>\n",
              "    </tr>\n",
              "  </tbody>\n",
              "</table>\n",
              "<p>40320 rows × 4 columns</p>\n",
              "</div>"
            ],
            "text/plain": [
              "       pred_nn  pred_rf  pred_xg  target\n",
              "0            0        0        1       0\n",
              "1            0        0        0       0\n",
              "2            0        0        1       0\n",
              "3            0        0        0       0\n",
              "4            1        1        1       1\n",
              "...        ...      ...      ...     ...\n",
              "40315        0        0        0       0\n",
              "40316        0        0        0       0\n",
              "40317        0        0        0       0\n",
              "40318        1        1        1       1\n",
              "40319        0        0        0       0\n",
              "\n",
              "[40320 rows x 4 columns]"
            ]
          },
          "metadata": {
            "tags": []
          },
          "execution_count": 421
        }
      ]
    },
    {
      "cell_type": "code",
      "metadata": {
        "id": "gIi3sy6sjF4s"
      },
      "source": [
        ""
      ],
      "execution_count": 421,
      "outputs": []
    },
    {
      "cell_type": "code",
      "metadata": {
        "colab": {
          "base_uri": "https://localhost:8080/"
        },
        "id": "8TzVAYTAdE4x",
        "outputId": "20a5472b-753d-4948-f78a-015d18811acd"
      },
      "source": [
        "blend_X=df_blend.drop(columns=['target'])\n",
        "blend_y=df_blend['target']\n",
        "blend_model=LogisticRegression(C=3,class_weight={0:1,1:8})\n",
        "blend_model.fit(blend_X,blend_y)"
      ],
      "execution_count": 422,
      "outputs": [
        {
          "output_type": "execute_result",
          "data": {
            "text/plain": [
              "LogisticRegression(C=3, class_weight={0: 1, 1: 8}, dual=False,\n",
              "                   fit_intercept=True, intercept_scaling=1, l1_ratio=None,\n",
              "                   max_iter=100, multi_class='auto', n_jobs=None, penalty='l2',\n",
              "                   random_state=None, solver='lbfgs', tol=0.0001, verbose=0,\n",
              "                   warm_start=False)"
            ]
          },
          "metadata": {
            "tags": []
          },
          "execution_count": 422
        }
      ]
    },
    {
      "cell_type": "code",
      "metadata": {
        "colab": {
          "base_uri": "https://localhost:8080/",
          "height": 642
        },
        "id": "XDB8mHs0b0i8",
        "outputId": "45a5411b-5c0e-4359-fe2a-3bb981ec90bf"
      },
      "source": [
        "#The base model training\n",
        "#NN\n",
        "predictions=model.predict(X_test)\n",
        "predictions=predictions>0.5\n",
        "blend_nn_pred=np.where(predictions==False,0,1)\n",
        "\n",
        "#RF\n",
        "blend_rf_pred=rf_model.predict(X_test)\n",
        "\n",
        "#XG\n",
        "blend_xg_pred=clf_xg.predict(X_test)\n",
        "\n",
        "\n",
        "#Blended_pred\n",
        "data={\n",
        "    'pred_nn':list(blend_nn_pred),\n",
        "    'pred_rf':blend_rf_pred,\n",
        "    'pred_xg':blend_xg_pred\n",
        "}\n",
        "X=pd.DataFrame(data=data)\n",
        "blend_predictions=blend_model.predict(X)\n",
        "scoring(y_test,blend_predictions)"
      ],
      "execution_count": 423,
      "outputs": [
        {
          "output_type": "stream",
          "text": [
            "roc auc score \n",
            "0.7865790159843429\n",
            "confusion_matrix \n",
            "[[34947  9285]\n",
            " [ 1338  4830]]\n",
            "value counts \n",
            "0    36285\n",
            "1    14115\n",
            "dtype: int64\n",
            "fpr = [0.        0.2099159 1.       ] , tpr = [0.         0.78307393 1.        ]\n"
          ],
          "name": "stdout"
        },
        {
          "output_type": "display_data",
          "data": {
            "image/png": "[encoded data removed]",
            "text/plain": [
              "<Figure size 504x504 with 1 Axes>"
            ]
          },
          "metadata": {
            "tags": [],
            "needs_background": "light"
          }
        }
      ]
    },
    {
      "cell_type": "markdown",
      "metadata": {
        "id": "58OxebvCX3VM"
      },
      "source": [
        "**voting clf**"
      ]
    },
    {
      "cell_type": "code",
      "metadata": {
        "id": "GAJmvGIxIxBk"
      },
      "source": [
        "###########Xg boost not included\n",
        "# itr=y_test.shape[0]\n",
        "# voting_pred=[]\n",
        "# for i in range(itr):\n",
        "#   if (nn_pred_df['prediction'][i]==1 and prediction_rf[i]==1) or (nn_pred_df['prediction'][i]==1 and prediction_dt[i]==1) :\n",
        "#     voting_pred.append(1)\n",
        "#   else:\n",
        "#     voting_pred.append(0)"
      ],
      "execution_count": 424,
      "outputs": []
    },
    {
      "cell_type": "code",
      "metadata": {
        "id": "ycUETqIMIxEz"
      },
      "source": [
        "# scoring(y_test,voting_pred)"
      ],
      "execution_count": 425,
      "outputs": []
    },
    {
      "cell_type": "markdown",
      "metadata": {
        "id": "pZ_GZVHCRC-z"
      },
      "source": [
        "**weighted average**"
      ]
    },
    {
      "cell_type": "code",
      "metadata": {
        "id": "Pg39RnQoIxH8"
      },
      "source": [
        "# itr=X_test.shape[0]\n",
        "# weighted_pred=[]\n",
        "# for i in range(itr):\n",
        "#   weighted_avg=(2*predictions_xg[i]+(3*nn_pred_df['prediction'][i])+(3*prediction_rf[i])+prediction_dt[i])/9\n",
        "#   if weighted_avg>=0.4:\n",
        "#     weighted_pred.append(1)\n",
        "#   else:\n",
        "#     weighted_pred.append(0)\n"
      ],
      "execution_count": 426,
      "outputs": []
    },
    {
      "cell_type": "code",
      "metadata": {
        "id": "GaNUk3enQ9yo"
      },
      "source": [
        "# scoring(y_test,weighted_pred)"
      ],
      "execution_count": 427,
      "outputs": []
    },
    {
      "cell_type": "markdown",
      "metadata": {
        "id": "7OwgGqHGoN24"
      },
      "source": [
        "**Final predictions**"
      ]
    },
    {
      "cell_type": "code",
      "metadata": {
        "id": "DMv9MhRDIxKT"
      },
      "source": [
        "###########################################################\n",
        "##USing Weighted Avg\n",
        "\n",
        "#NN\n",
        "predictions=model.predict(encoded_X_test)\n",
        "predictions=predictions>0.5\n",
        "prediction_nn=np.where(predictions==False,0,1)\n",
        "nn_pred_df=pd.DataFrame(prediction_nn,columns=['prediction'])\n",
        "\n",
        "# RF\n",
        "prediction_rf=rf_model.predict(encoded_X_test)\n",
        "\n",
        "#DT\n",
        "prediction_dt=dt_model.predict(encoded_X_test)\n",
        "\n",
        "#xg boost\n",
        "prediction_xg=clf_xg.predict(encoded_X_test)\n",
        "\n",
        "## voting clf without xg\n",
        "\n",
        "# itr=encoded_X_test.shape[0]\n",
        "# voting_pred=[]\n",
        "# for i in range(itr):\n",
        "#   if (nn_pred_df['prediction'][i]==1 and prediction_rf[i]==1) or (nn_pred_df['prediction'][i]==1 and prediction_dt[i]==1) :\n",
        "#     voting_pred.append(1)\n",
        "#   else:\n",
        "#     voting_pred.append(0)\n",
        "\n",
        "\n",
        "# Weighted Average\n",
        "\n",
        "# itr=encoded_X_test.shape[0]\n",
        "# weighted_pred=[]\n",
        "# for i in range(itr):\n",
        "#   weighted_avg=(2*predictions_xg[i]+(3*nn_pred_df['prediction'][i])+(3*prediction_rf[i])+prediction_dt[i])/9\n",
        "#   if weighted_avg>=0.4:\n",
        "#     weighted_pred.append(1)\n",
        "#   else:\n",
        "#     weighted_pred.append(0)\n",
        "\n",
        "\n",
        "############################################################################\n",
        "##USing Stacked model\n",
        "\n",
        "#The base model training\n",
        "#NN\n",
        "predictions=model.predict(encoded_X_test)\n",
        "predictions=predictions>0.5\n",
        "blend_nn_pred=np.where(predictions==False,0,1)\n",
        "\n",
        "#RF\n",
        "blend_rf_pred=rf_model.predict(encoded_X_test)\n",
        "\n",
        "#XG\n",
        "blend_xg_pred=clf_xg.predict(encoded_X_test)\n",
        "\n",
        "\n",
        "#Blended_pred\n",
        "data={\n",
        "    'pred_nn':list(blend_nn_pred),\n",
        "    'pred_rf':blend_rf_pred,\n",
        "    'pred_xg':blend_xg_pred\n",
        "}\n",
        "X=pd.DataFrame(data=data)\n",
        "blend_predictions=blend_model.predict(X)"
      ],
      "execution_count": 428,
      "outputs": []
    },
    {
      "cell_type": "code",
      "metadata": {
        "id": "KcPm-rd6U8Ox"
      },
      "source": [
        "final_data={'id':test_data_bck['id'],'risk_flag':blend_predictions}\n",
        "df_final=pd.DataFrame(final_data)"
      ],
      "execution_count": 429,
      "outputs": []
    },
    {
      "cell_type": "code",
      "metadata": {
        "colab": {
          "base_uri": "https://localhost:8080/"
        },
        "id": "56fEJXJ5aIVT",
        "outputId": "8da28236-e2be-42fc-840c-1e83dd601484"
      },
      "source": [
        "df_final['risk_flag'].value_counts()"
      ],
      "execution_count": 430,
      "outputs": [
        {
          "output_type": "execute_result",
          "data": {
            "text/plain": [
              "0    20112\n",
              "1     7888\n",
              "Name: risk_flag, dtype: int64"
            ]
          },
          "metadata": {
            "tags": []
          },
          "execution_count": 430
        }
      ]
    },
    {
      "cell_type": "code",
      "metadata": {
        "id": "qAdHTabiaN04",
        "colab": {
          "base_uri": "https://localhost:8080/",
          "height": 17
        },
        "outputId": "3aa32e56-3f9a-44d1-e005-0cf8bffd764b"
      },
      "source": [
        "df_final.to_csv('final_submission.csv',index=False)\n",
        "files.download(\"final_submission.csv\")"
      ],
      "execution_count": 431,
      "outputs": [
        {
          "output_type": "display_data",
          "data": {
            "application/javascript": [
              "\n",
              "    async function download(id, filename, size) {\n",
              "      if (!google.colab.kernel.accessAllowed) {\n",
              "        return;\n",
              "      }\n",
              "      const div = document.createElement('div');\n",
              "      const label = document.createElement('label');\n",
              "      label.textContent = `Downloading \"${filename}\": `;\n",
              "      div.appendChild(label);\n",
              "      const progress = document.createElement('progress');\n",
              "      progress.max = size;\n",
              "      div.appendChild(progress);\n",
              "      document.body.appendChild(div);\n",
              "\n",
              "      const buffers = [];\n",
              "      let downloaded = 0;\n",
              "\n",
              "      const channel = await google.colab.kernel.comms.open(id);\n",
              "      // Send a message to notify the kernel that we're ready.\n",
              "      channel.send({})\n",
              "\n",
              "      for await (const message of channel.messages) {\n",
              "        // Send a message to notify the kernel that we're ready.\n",
              "        channel.send({})\n",
              "        if (message.buffers) {\n",
              "          for (const buffer of message.buffers) {\n",
              "            buffers.push(buffer);\n",
              "            downloaded += buffer.byteLength;\n",
              "            progress.value = downloaded;\n",
              "          }\n",
              "        }\n",
              "      }\n",
              "      const blob = new Blob(buffers, {type: 'application/binary'});\n",
              "      const a = document.createElement('a');\n",
              "      a.href = window.URL.createObjectURL(blob);\n",
              "      a.download = filename;\n",
              "      div.appendChild(a);\n",
              "      a.click();\n",
              "      div.remove();\n",
              "    }\n",
              "  "
            ],
            "text/plain": [
              "<IPython.core.display.Javascript object>"
            ]
          },
          "metadata": {
            "tags": []
          }
        },
        {
          "output_type": "display_data",
          "data": {
            "application/javascript": [
              "download(\"download_bb073e56-9b3a-482c-96d2-c00081f26487\", \"final_submission.csv\", 212907)"
            ],
            "text/plain": [
              "<IPython.core.display.Javascript object>"
            ]
          },
          "metadata": {
            "tags": []
          }
        }
      ]
    },
    {
      "cell_type": "code",
      "metadata": {
        "id": "On-nnFngWz4k"
      },
      "source": [
        ""
      ],
      "execution_count": 431,
      "outputs": []
    },
    {
      "cell_type": "code",
      "metadata": {
        "id": "0scTNeMiWz8d"
      },
      "source": [
        ""
      ],
      "execution_count": 431,
      "outputs": []
    },
    {
      "cell_type": "code",
      "metadata": {
        "id": "6LyQIqFla1gS"
      },
      "source": [
        ""
      ],
      "execution_count": 431,
      "outputs": []
    },
    {
      "cell_type": "code",
      "metadata": {
        "id": "4Q_2krU0c59M"
      },
      "source": [
        ""
      ],
      "execution_count": 431,
      "outputs": []
    },
    {
      "cell_type": "code",
      "metadata": {
        "id": "gFYPfdumc6AF"
      },
      "source": [
        ""
      ],
      "execution_count": 431,
      "outputs": []
    },
    {
      "cell_type": "code",
      "metadata": {
        "id": "1oJFN6zosVzT"
      },
      "source": [
        ""
      ],
      "execution_count": 431,
      "outputs": []
    }
  ]
}